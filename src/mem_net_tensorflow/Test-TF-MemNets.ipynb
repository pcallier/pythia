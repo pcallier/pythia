{
 "cells": [
  {
   "cell_type": "code",
   "execution_count": 44,
   "metadata": {
    "collapsed": false
   },
   "outputs": [],
   "source": [
    "import sys\n",
    "import logging\n",
    "import memnet\n",
    "import importlib\n",
    "importlib.reload(memnet)\n",
    "logging.basicConfig()\n",
    "\n",
    "root_logger = logging.getLogger()\n",
    "root_logger.handlers[0].stream = sys.stdout"
   ]
  },
  {
   "cell_type": "code",
   "execution_count": 45,
   "metadata": {
    "collapsed": false
   },
   "outputs": [
    {
     "name": "stdout",
     "output_type": "stream",
     "text": [
      "Automatic pdb calling has been turned OFF\n"
     ]
    },
    {
     "name": "stderr",
     "output_type": "stream",
     "text": [
      "[ 55.78088046  47.461465    43.80960158  51.27220029  48.666745\n",
      "  40.23644344  48.18965405  48.998093    46.23229874  51.55305981]\n"
     ]
    },
    {
     "name": "stdout",
     "output_type": "stream",
     "text": [
      "Result:\t[[  9.99997616e-01   2.41063412e-06]]\n",
      "Truth:\t[[ 1.  0.]]\n",
      "Mean loss: 2.38418874687e-06\n",
      "Result:\t[[ 0.76036733  0.23963264]]\n",
      "Truth:\t[[ 1.  0.]]\n",
      "Mean loss: 0.136978000404\n",
      "Result:\t[[  1.00000000e+00   2.28285474e-10]]\n",
      "Truth:\t[[ 0.  1.]]\n",
      "Mean loss: 7.49146006505\n",
      "Result:\t[[  9.99999523e-01   4.25621096e-07]]\n",
      "Truth:\t[[ 1.  0.]]\n",
      "Mean loss: 5.61859515309\n",
      "Result:\t[[ 0.36412966  0.63587034]]\n",
      "Truth:\t[[ 1.  0.]]\n",
      "Mean loss: 4.69692518711\n",
      "Result:\t[[ 0.97525656  0.02474343]]\n",
      "Truth:\t[[ 1.  0.]]\n",
      "Mean loss: 3.91828010635\n",
      "Result:\t[[ 0.36561623  0.63438374]]\n",
      "Truth:\t[[ 1.  0.]]\n",
      "Mean loss: 3.50226451803\n",
      "Result:\t[[  1.00000000e+00   1.46472331e-11]]\n",
      "Truth:\t[[ 0.  1.]]\n",
      "Mean loss: 6.18282766757\n",
      "Result:\t[[ 0.99744546  0.00255454]]\n",
      "Truth:\t[[ 1.  0.]]\n",
      "Mean loss: 5.4961310161\n",
      "Result:\t[[ 0.98210275  0.01789723]]\n",
      "Truth:\t[[ 1.  0.]]\n",
      "Mean loss: 4.94832384861\n",
      "Result:\t[[  9.99448478e-01   5.51569217e-04]]\n",
      "Truth:\t[[ 1.  0.]]\n",
      "Mean loss: 4.49852637819\n",
      "Result:\t[[ 0.99539244  0.00460756]]\n",
      "Truth:\t[[ 1.  0.]]\n",
      "Mean loss: 4.12403403047\n",
      "Result:\t[[ 0.99428844  0.00571148]]\n",
      "Truth:\t[[ 0.  1.]]\n",
      "Mean loss: 4.20412968052\n",
      "Result:\t[[ 0.00585718  0.99414283]]\n",
      "Truth:\t[[ 1.  0.]]\n",
      "Mean loss: 4.27098378389\n",
      "Result:\t[[ 0.00730043  0.99269956]]\n",
      "Truth:\t[[ 1.  0.]]\n",
      "Mean loss: 4.31423967936\n",
      "Result:\t[[  9.99690175e-01   3.09796014e-04]]\n",
      "Truth:\t[[ 1.  0.]]\n",
      "Mean loss: 4.04461906646\n",
      "Result:\t[[  9.99998927e-01   1.02627700e-06]]\n",
      "Truth:\t[[ 0.  1.]]\n",
      "Mean loss: 4.61785163407\n",
      "Result:\t[[ 0.88925469  0.11074528]]\n",
      "Truth:\t[[ 0.  1.]]\n",
      "Mean loss: 4.48355556677\n",
      "Result:\t[[ 0.00239849  0.99760157]]\n",
      "Truth:\t[[ 1.  0.]]\n",
      "Mean loss: 4.56510090656\n",
      "Result:\t[[  9.99987721e-01   1.22664314e-05]]\n",
      "Truth:\t[[ 1.  0.]]\n",
      "Mean loss: 4.33684647516\n",
      "Result:\t[[  9.99893188e-01   1.06797394e-04]]\n",
      "Truth:\t[[ 0.  1.]]\n",
      "Mean loss: 4.56578602522\n",
      "Result:\t[[  3.89899043e-07   9.99999642e-01]]\n",
      "Truth:\t[[ 0.  1.]]\n",
      "Mean loss: 4.35825031306\n",
      "Result:\t[[ 0.65853035  0.34146965]]\n",
      "Truth:\t[[ 0.  1.]]\n",
      "Mean loss: 4.21547840847\n",
      "Result:\t[[  8.16738884e-06   9.99991775e-01]]\n",
      "Truth:\t[[ 1.  0.]]\n",
      "Mean loss: 4.52797354125\n",
      "Result:\t[[ 0.91944623  0.08055375]]\n",
      "Truth:\t[[ 1.  0.]]\n",
      "Mean loss: 4.35021394808\n",
      "Result:\t[[  9.99104440e-01   8.95479519e-04]]\n",
      "Truth:\t[[ 1.  0.]]\n",
      "Mean loss: 4.18293248474\n",
      "Result:\t[[  9.99723971e-01   2.75961531e-04]]\n",
      "Truth:\t[[ 0.  1.]]\n",
      "Mean loss: 4.33153678545\n",
      "Result:\t[[  9.99998569e-01   1.41739542e-06]]\n",
      "Truth:\t[[ 0.  1.]]\n",
      "Mean loss: 4.65779225967\n",
      "Result:\t[[  6.20486026e-06   9.99993801e-01]]\n",
      "Truth:\t[[ 1.  0.]]\n",
      "Mean loss: 4.910633151\n",
      "Result:\t[[  9.99999762e-01   2.40485377e-07]]\n",
      "Truth:\t[[ 1.  0.]]\n",
      "Mean loss: 4.74694538724\n",
      "Result:\t[[  9.99997616e-01   2.36556639e-06]]\n",
      "Truth:\t[[ 1.  0.]]\n",
      "Mean loss: 4.5938181936\n",
      "Result:\t[[ 0.02441621  0.97558379]]\n",
      "Truth:\t[[ 1.  0.]]\n",
      "Mean loss: 4.5662772489\n",
      "Result:\t[[ 0.99475843  0.00524153]]\n",
      "Truth:\t[[ 1.  0.]]\n",
      "Mean loss: 4.42806446251\n",
      "Result:\t[[  9.99999642e-01   3.67844137e-07]]\n",
      "Truth:\t[[ 1.  0.]]\n",
      "Mean loss: 4.29782728296\n",
      "Result:\t[[ 0.9826749   0.01732511]]\n",
      "Truth:\t[[ 1.  0.]]\n",
      "Mean loss: 4.17553155883\n",
      "Result:\t[[  9.99606431e-01   3.93628521e-04]]\n",
      "Truth:\t[[ 1.  0.]]\n",
      "Mean loss: 4.05955550573\n",
      "Result:\t[[  1.00000000e+00   3.54533225e-09]]\n",
      "Truth:\t[[ 1.  0.]]\n",
      "Mean loss: 3.94983778935\n",
      "Result:\t[[  1.00000000e+00   3.03719938e-10]]\n",
      "Truth:\t[[ 0.  1.]]\n",
      "Mean loss: 4.42260298134\n",
      "Result:\t[[  9.99488354e-01   5.11605991e-04]]\n",
      "Truth:\t[[ 1.  0.]]\n",
      "Mean loss: 4.30921602586\n",
      "Result:\t[[  1.00000000e+00   1.59411364e-08]]\n",
      "Truth:\t[[ 1.  0.]]\n",
      "Mean loss: 4.20148562521\n",
      "Result:\t[[ 0.90468985  0.09531015]]\n",
      "Truth:\t[[ 1.  0.]]\n",
      "Mean loss: 4.10145336855\n",
      "Result:\t[[  9.99984264e-01   1.57896975e-05]]\n",
      "Truth:\t[[ 0.  1.]]\n",
      "Mean loss: 4.2670414621\n",
      "Result:\t[[  9.99573767e-01   4.26182844e-04]]\n",
      "Truth:\t[[ 0.  1.]]\n",
      "Mean loss: 4.34828798744\n",
      "Result:\t[[  7.77603049e-08   9.99999881e-01]]\n",
      "Truth:\t[[ 1.  0.]]\n",
      "Mean loss: 4.62150041109\n",
      "Result:\t[[  9.99999404e-01   5.94979838e-07]]\n",
      "Truth:\t[[ 1.  0.]]\n",
      "Mean loss: 4.5188004152\n",
      "Result:\t[[ 0.81691271  0.18308729]]\n",
      "Truth:\t[[ 1.  0.]]\n",
      "Mean loss: 4.42496177645\n",
      "Result:\t[[  9.99999762e-01   2.04391810e-07]]\n",
      "Truth:\t[[ 0.  1.]]\n",
      "Mean loss: 4.65854188445\n"
     ]
    },
    {
     "ename": "KeyboardInterrupt",
     "evalue": "",
     "output_type": "error",
     "traceback": [
      "\u001b[1;31m\u001b[0m",
      "\u001b[1;31mKeyboardInterrupt\u001b[0mTraceback (most recent call last)",
      "\u001b[1;32m<ipython-input-45-14e9e9e84062>\u001b[0m in \u001b[0;36m<module>\u001b[1;34m()\u001b[0m\n\u001b[0;32m      1\u001b[0m \u001b[0mget_ipython\u001b[0m\u001b[1;33m(\u001b[0m\u001b[1;33m)\u001b[0m\u001b[1;33m.\u001b[0m\u001b[0mmagic\u001b[0m\u001b[1;33m(\u001b[0m\u001b[1;34m'pdb off'\u001b[0m\u001b[1;33m)\u001b[0m\u001b[1;33m\u001b[0m\u001b[0m\n\u001b[0;32m      2\u001b[0m \u001b[1;33m\u001b[0m\u001b[0m\n\u001b[1;32m----> 3\u001b[1;33m \u001b[0mmemnet\u001b[0m\u001b[1;33m.\u001b[0m\u001b[0mtest_net\u001b[0m\u001b[1;33m(\u001b[0m\u001b[1;33m)\u001b[0m\u001b[1;33m\u001b[0m\u001b[0m\n\u001b[0m",
      "\u001b[1;32m/data/fs4/home/pcallier/pythia/src/mem_net_tensorflow/memnet.py\u001b[0m in \u001b[0;36mtest_net\u001b[1;34m()\u001b[0m\n\u001b[0;32m     74\u001b[0m         \u001b[1;32mwith\u001b[0m \u001b[0msess\u001b[0m\u001b[1;33m.\u001b[0m\u001b[0mas_default\u001b[0m\u001b[1;33m(\u001b[0m\u001b[1;33m)\u001b[0m\u001b[1;33m:\u001b[0m\u001b[1;33m\u001b[0m\u001b[0m\n\u001b[0;32m     75\u001b[0m             \u001b[0mobs_idx\u001b[0m \u001b[1;33m=\u001b[0m \u001b[0mnp\u001b[0m\u001b[1;33m.\u001b[0m\u001b[0mrandom\u001b[0m\u001b[1;33m.\u001b[0m\u001b[0mchoice\u001b[0m\u001b[1;33m(\u001b[0m\u001b[0mrange\u001b[0m\u001b[1;33m(\u001b[0m\u001b[0mtrain_data\u001b[0m\u001b[1;33m.\u001b[0m\u001b[0mshape\u001b[0m\u001b[1;33m[\u001b[0m\u001b[1;36m0\u001b[0m\u001b[1;33m]\u001b[0m\u001b[1;33m)\u001b[0m\u001b[1;33m)\u001b[0m\u001b[1;33m\u001b[0m\u001b[0m\n\u001b[1;32m---> 76\u001b[1;33m             \u001b[0mmean_loss\u001b[0m \u001b[1;33m=\u001b[0m \u001b[0mmemnet\u001b[0m\u001b[1;33m.\u001b[0m\u001b[0mtrain\u001b[0m\u001b[1;33m(\u001b[0m\u001b[0mtrain_data\u001b[0m\u001b[1;33m[\u001b[0m\u001b[0mobs_idx\u001b[0m\u001b[1;33m]\u001b[0m\u001b[1;33m.\u001b[0m\u001b[0mreshape\u001b[0m\u001b[1;33m(\u001b[0m\u001b[1;36m1\u001b[0m\u001b[1;33m,\u001b[0m\u001b[1;33m-\u001b[0m\u001b[1;36m1\u001b[0m\u001b[1;33m)\u001b[0m\u001b[1;33m,\u001b[0m \u001b[0mtrain_labels\u001b[0m\u001b[1;33m[\u001b[0m\u001b[0mobs_idx\u001b[0m\u001b[1;33m]\u001b[0m\u001b[1;33m)\u001b[0m\u001b[1;33m\u001b[0m\u001b[0m\n\u001b[0m\u001b[0;32m     77\u001b[0m             \u001b[0mmean_losses\u001b[0m\u001b[1;33m.\u001b[0m\u001b[0mappend\u001b[0m\u001b[1;33m(\u001b[0m\u001b[0mmean_loss\u001b[0m\u001b[1;33m)\u001b[0m\u001b[1;33m\u001b[0m\u001b[0m\n\u001b[0;32m     78\u001b[0m             \u001b[0mprint\u001b[0m\u001b[1;33m(\u001b[0m\u001b[1;34m\"Mean loss:\"\u001b[0m\u001b[1;33m,\u001b[0m \u001b[0mnp\u001b[0m\u001b[1;33m.\u001b[0m\u001b[0mmean\u001b[0m\u001b[1;33m(\u001b[0m\u001b[0mmean_losses\u001b[0m\u001b[1;33m)\u001b[0m\u001b[1;33m)\u001b[0m\u001b[1;33m\u001b[0m\u001b[0m\n",
      "\u001b[1;32m/data/fs4/home/pcallier/pythia/src/mem_net_tensorflow/memnet.py\u001b[0m in \u001b[0;36mtrain\u001b[1;34m(self, train_data, train_labels, batch_size)\u001b[0m\n\u001b[0;32m     36\u001b[0m         \u001b[0mdata_to_feed\u001b[0m \u001b[1;33m=\u001b[0m \u001b[1;33m{\u001b[0m\u001b[0mself\u001b[0m\u001b[1;33m.\u001b[0m\u001b[0mdata\u001b[0m\u001b[1;33m:\u001b[0m \u001b[0mtrain_data\u001b[0m\u001b[1;33m,\u001b[0m \u001b[0mself\u001b[0m\u001b[1;33m.\u001b[0m\u001b[0mlabels\u001b[0m\u001b[1;33m:\u001b[0m \u001b[0mtrain_labels\u001b[0m\u001b[1;33m}\u001b[0m\u001b[1;33m\u001b[0m\u001b[0m\n\u001b[0;32m     37\u001b[0m         \u001b[1;32mfor\u001b[0m \u001b[0mi\u001b[0m \u001b[1;32min\u001b[0m \u001b[0mrange\u001b[0m\u001b[1;33m(\u001b[0m\u001b[1;36m10\u001b[0m\u001b[1;33m)\u001b[0m\u001b[1;33m:\u001b[0m\u001b[1;33m\u001b[0m\u001b[0m\n\u001b[1;32m---> 38\u001b[1;33m             \u001b[0mtrain_step\u001b[0m\u001b[1;33m.\u001b[0m\u001b[0mrun\u001b[0m\u001b[1;33m(\u001b[0m\u001b[0mfeed_dict\u001b[0m\u001b[1;33m=\u001b[0m\u001b[0mdata_to_feed\u001b[0m\u001b[1;33m)\u001b[0m\u001b[1;33m\u001b[0m\u001b[0m\n\u001b[0m\u001b[0;32m     39\u001b[0m             \u001b[1;32mif\u001b[0m \u001b[0mi\u001b[0m \u001b[1;33m%\u001b[0m \u001b[1;36m10\u001b[0m \u001b[1;33m==\u001b[0m \u001b[1;36m0\u001b[0m\u001b[1;33m:\u001b[0m\u001b[1;33m\u001b[0m\u001b[0m\n\u001b[0;32m     40\u001b[0m                 \u001b[0mresult\u001b[0m \u001b[1;33m=\u001b[0m \u001b[0mself\u001b[0m\u001b[1;33m.\u001b[0m\u001b[0mnetwork\u001b[0m\u001b[1;33m.\u001b[0m\u001b[0meval\u001b[0m\u001b[1;33m(\u001b[0m\u001b[0mfeed_dict\u001b[0m\u001b[1;33m=\u001b[0m\u001b[0mdata_to_feed\u001b[0m\u001b[1;33m)\u001b[0m\u001b[1;33m\u001b[0m\u001b[0m\n",
      "\u001b[1;32m/home/pcallier/.conda/envs/py3-pythia-tf/lib/python3.4/site-packages/tensorflow/python/framework/ops.py\u001b[0m in \u001b[0;36mrun\u001b[1;34m(self, feed_dict, session)\u001b[0m\n\u001b[0;32m   1459\u001b[0m         \u001b[0mnone\u001b[0m\u001b[1;33m,\u001b[0m \u001b[0mthe\u001b[0m \u001b[0mdefault\u001b[0m \u001b[0msession\u001b[0m \u001b[0mwill\u001b[0m \u001b[0mbe\u001b[0m \u001b[0mused\u001b[0m\u001b[1;33m.\u001b[0m\u001b[1;33m\u001b[0m\u001b[0m\n\u001b[0;32m   1460\u001b[0m     \"\"\"\n\u001b[1;32m-> 1461\u001b[1;33m     \u001b[0m_run_using_default_session\u001b[0m\u001b[1;33m(\u001b[0m\u001b[0mself\u001b[0m\u001b[1;33m,\u001b[0m \u001b[0mfeed_dict\u001b[0m\u001b[1;33m,\u001b[0m \u001b[0mself\u001b[0m\u001b[1;33m.\u001b[0m\u001b[0mgraph\u001b[0m\u001b[1;33m,\u001b[0m \u001b[0msession\u001b[0m\u001b[1;33m)\u001b[0m\u001b[1;33m\u001b[0m\u001b[0m\n\u001b[0m\u001b[0;32m   1462\u001b[0m \u001b[1;33m\u001b[0m\u001b[0m\n\u001b[0;32m   1463\u001b[0m \u001b[1;33m\u001b[0m\u001b[0m\n",
      "\u001b[1;32m/home/pcallier/.conda/envs/py3-pythia-tf/lib/python3.4/site-packages/tensorflow/python/framework/ops.py\u001b[0m in \u001b[0;36m_run_using_default_session\u001b[1;34m(operation, feed_dict, graph, session)\u001b[0m\n\u001b[0;32m   3367\u001b[0m                        \u001b[1;34m\"the operation's graph is different from the session's \"\u001b[0m\u001b[1;33m\u001b[0m\u001b[0m\n\u001b[0;32m   3368\u001b[0m                        \"graph.\")\n\u001b[1;32m-> 3369\u001b[1;33m   \u001b[0msession\u001b[0m\u001b[1;33m.\u001b[0m\u001b[0mrun\u001b[0m\u001b[1;33m(\u001b[0m\u001b[0moperation\u001b[0m\u001b[1;33m,\u001b[0m \u001b[0mfeed_dict\u001b[0m\u001b[1;33m)\u001b[0m\u001b[1;33m\u001b[0m\u001b[0m\n\u001b[0m\u001b[0;32m   3370\u001b[0m \u001b[1;33m\u001b[0m\u001b[0m\n\u001b[0;32m   3371\u001b[0m \u001b[1;33m\u001b[0m\u001b[0m\n",
      "\u001b[1;32m/home/pcallier/.conda/envs/py3-pythia-tf/lib/python3.4/site-packages/tensorflow/python/client/session.py\u001b[0m in \u001b[0;36mrun\u001b[1;34m(self, fetches, feed_dict, options, run_metadata)\u001b[0m\n\u001b[0;32m    338\u001b[0m     \u001b[1;32mtry\u001b[0m\u001b[1;33m:\u001b[0m\u001b[1;33m\u001b[0m\u001b[0m\n\u001b[0;32m    339\u001b[0m       result = self._run(None, fetches, feed_dict, options_ptr,\n\u001b[1;32m--> 340\u001b[1;33m                          run_metadata_ptr)\n\u001b[0m\u001b[0;32m    341\u001b[0m       \u001b[1;32mif\u001b[0m \u001b[0mrun_metadata\u001b[0m\u001b[1;33m:\u001b[0m\u001b[1;33m\u001b[0m\u001b[0m\n\u001b[0;32m    342\u001b[0m         \u001b[0mproto_data\u001b[0m \u001b[1;33m=\u001b[0m \u001b[0mtf_session\u001b[0m\u001b[1;33m.\u001b[0m\u001b[0mTF_GetBuffer\u001b[0m\u001b[1;33m(\u001b[0m\u001b[0mrun_metadata_ptr\u001b[0m\u001b[1;33m)\u001b[0m\u001b[1;33m\u001b[0m\u001b[0m\n",
      "\u001b[1;32m/home/pcallier/.conda/envs/py3-pythia-tf/lib/python3.4/site-packages/tensorflow/python/client/session.py\u001b[0m in \u001b[0;36m_run\u001b[1;34m(self, handle, fetches, feed_dict, options, run_metadata)\u001b[0m\n\u001b[0;32m    562\u001b[0m     \u001b[1;32mtry\u001b[0m\u001b[1;33m:\u001b[0m\u001b[1;33m\u001b[0m\u001b[0m\n\u001b[0;32m    563\u001b[0m       results = self._do_run(handle, target_list, unique_fetches,\n\u001b[1;32m--> 564\u001b[1;33m                              feed_dict_string, options, run_metadata)\n\u001b[0m\u001b[0;32m    565\u001b[0m     \u001b[1;32mfinally\u001b[0m\u001b[1;33m:\u001b[0m\u001b[1;33m\u001b[0m\u001b[0m\n\u001b[0;32m    566\u001b[0m       \u001b[1;31m# The movers are no longer used. Delete them.\u001b[0m\u001b[1;33m\u001b[0m\u001b[1;33m\u001b[0m\u001b[0m\n",
      "\u001b[1;32m/home/pcallier/.conda/envs/py3-pythia-tf/lib/python3.4/site-packages/tensorflow/python/client/session.py\u001b[0m in \u001b[0;36m_do_run\u001b[1;34m(self, handle, target_list, fetch_list, feed_dict, options, run_metadata)\u001b[0m\n\u001b[0;32m    635\u001b[0m     \u001b[1;32mif\u001b[0m \u001b[0mhandle\u001b[0m \u001b[1;32mis\u001b[0m \u001b[1;32mNone\u001b[0m\u001b[1;33m:\u001b[0m\u001b[1;33m\u001b[0m\u001b[0m\n\u001b[0;32m    636\u001b[0m       return self._do_call(_run_fn, self._session, feed_dict, fetch_list,\n\u001b[1;32m--> 637\u001b[1;33m                            target_list, options, run_metadata)\n\u001b[0m\u001b[0;32m    638\u001b[0m     \u001b[1;32melse\u001b[0m\u001b[1;33m:\u001b[0m\u001b[1;33m\u001b[0m\u001b[0m\n\u001b[0;32m    639\u001b[0m       return self._do_call(_prun_fn, self._session, handle, feed_dict,\n",
      "\u001b[1;32m/home/pcallier/.conda/envs/py3-pythia-tf/lib/python3.4/site-packages/tensorflow/python/client/session.py\u001b[0m in \u001b[0;36m_do_call\u001b[1;34m(self, fn, *args)\u001b[0m\n\u001b[0;32m    642\u001b[0m   \u001b[1;32mdef\u001b[0m \u001b[0m_do_call\u001b[0m\u001b[1;33m(\u001b[0m\u001b[0mself\u001b[0m\u001b[1;33m,\u001b[0m \u001b[0mfn\u001b[0m\u001b[1;33m,\u001b[0m \u001b[1;33m*\u001b[0m\u001b[0margs\u001b[0m\u001b[1;33m)\u001b[0m\u001b[1;33m:\u001b[0m\u001b[1;33m\u001b[0m\u001b[0m\n\u001b[0;32m    643\u001b[0m     \u001b[1;32mtry\u001b[0m\u001b[1;33m:\u001b[0m\u001b[1;33m\u001b[0m\u001b[0m\n\u001b[1;32m--> 644\u001b[1;33m       \u001b[1;32mreturn\u001b[0m \u001b[0mfn\u001b[0m\u001b[1;33m(\u001b[0m\u001b[1;33m*\u001b[0m\u001b[0margs\u001b[0m\u001b[1;33m)\u001b[0m\u001b[1;33m\u001b[0m\u001b[0m\n\u001b[0m\u001b[0;32m    645\u001b[0m     \u001b[1;32mexcept\u001b[0m \u001b[0mtf_session\u001b[0m\u001b[1;33m.\u001b[0m\u001b[0mStatusNotOK\u001b[0m \u001b[1;32mas\u001b[0m \u001b[0me\u001b[0m\u001b[1;33m:\u001b[0m\u001b[1;33m\u001b[0m\u001b[0m\n\u001b[0;32m    646\u001b[0m       \u001b[0merror_message\u001b[0m \u001b[1;33m=\u001b[0m \u001b[0mcompat\u001b[0m\u001b[1;33m.\u001b[0m\u001b[0mas_text\u001b[0m\u001b[1;33m(\u001b[0m\u001b[0me\u001b[0m\u001b[1;33m.\u001b[0m\u001b[0merror_message\u001b[0m\u001b[1;33m)\u001b[0m\u001b[1;33m\u001b[0m\u001b[0m\n",
      "\u001b[1;32m/home/pcallier/.conda/envs/py3-pythia-tf/lib/python3.4/site-packages/tensorflow/python/client/session.py\u001b[0m in \u001b[0;36m_run_fn\u001b[1;34m(session, feed_dict, fetch_list, target_list, options, run_metadata)\u001b[0m\n\u001b[0;32m    626\u001b[0m       \u001b[1;32melse\u001b[0m\u001b[1;33m:\u001b[0m\u001b[1;33m\u001b[0m\u001b[0m\n\u001b[0;32m    627\u001b[0m         return tf_session.TF_Run(\n\u001b[1;32m--> 628\u001b[1;33m             session, None, feed_dict, fetch_list, target_list, None)\n\u001b[0m\u001b[0;32m    629\u001b[0m \u001b[1;33m\u001b[0m\u001b[0m\n\u001b[0;32m    630\u001b[0m     \u001b[1;32mdef\u001b[0m \u001b[0m_prun_fn\u001b[0m\u001b[1;33m(\u001b[0m\u001b[0msession\u001b[0m\u001b[1;33m,\u001b[0m \u001b[0mhandle\u001b[0m\u001b[1;33m,\u001b[0m \u001b[0mfeed_dict\u001b[0m\u001b[1;33m,\u001b[0m \u001b[0mfetch_list\u001b[0m\u001b[1;33m)\u001b[0m\u001b[1;33m:\u001b[0m\u001b[1;33m\u001b[0m\u001b[0m\n",
      "\u001b[1;31mKeyboardInterrupt\u001b[0m: "
     ]
    }
   ],
   "source": [
    "%pdb off\n",
    "\n",
    "memnet.test_net()"
   ]
  },
  {
   "cell_type": "code",
   "execution_count": null,
   "metadata": {
    "collapsed": true
   },
   "outputs": [],
   "source": []
  },
  {
   "cell_type": "code",
   "execution_count": null,
   "metadata": {
    "collapsed": true
   },
   "outputs": [],
   "source": []
  }
 ],
 "metadata": {
  "kernelspec": {
   "display_name": "Python 3.4 (Pythia, TF)",
   "language": "python",
   "name": "py3-pythia-tf"
  },
  "language_info": {
   "codemirror_mode": {
    "name": "ipython",
    "version": 3
   },
   "file_extension": ".py",
   "mimetype": "text/x-python",
   "name": "python",
   "nbconvert_exporter": "python",
   "pygments_lexer": "ipython3",
   "version": "3.4.5"
  }
 },
 "nbformat": 4,
 "nbformat_minor": 0
}
